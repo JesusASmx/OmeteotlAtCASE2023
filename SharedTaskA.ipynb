{
 "cells": [
  {
   "cell_type": "code",
   "execution_count": 2,
   "id": "3615583f",
   "metadata": {},
   "outputs": [
    {
     "name": "stdout",
     "output_type": "stream",
     "text": [
      "     Sample                                               Text           Label\n",
      "1     10087  TRUTH BY TEXAS 2019 REPUBLICAN PRESIDENT DONAL...     hate speech\n",
      "2     10113  Putin stressing tf out after hearing that some...     hate speech\n",
      "3     10203  Ip Interference in Ukraine move would lead to ...  no hate speech\n",
      "4     10256  9:32 Carolina Forward Thread @ForwardCarolina ...  no hate speech\n",
      "5     10270  THAT'S NOT WHAT 'FUCK PUTIN' MEANS! SEE? EVERY...     hate speech\n",
      "...     ...                                                ...             ...\n",
      "4039  99632  PROTESTORS AROUND THE WORLD RALLY IN SUPPORT O...  no hate speech\n",
      "4040  99658  RT LIVE Q 3 Mar, 2022 08:31 / Home / Russia & ...  no hate speech\n",
      "4041  99773  raging_eve Costa Mesa couple barely escape Ukr...  no hate speech\n",
      "4042  99882  Sign in Contribute The. Guardian For 200 years...  no hate speech\n",
      "4043  99927  Rob Lee @RALee85 Colonel Alexey Gorobets, the ...  no hate speech\n",
      "\n",
      "[4043 rows x 3 columns]\n"
     ]
    }
   ],
   "source": [
    "import pandas as pd\n",
    "\n",
    "hate_stA_train = pd.read_csv(\".\\hate_stA_train.csv\")\n",
    "stA_eval = pd.read_csv(\".\\stA_eval.csv\")\n",
    "stA_test = pd.read_csv(\".\\stA_test.csv\")\n",
    "eval_subtaskA = pd.read_csv(\".\\eval_subtaskA.csv\")\n",
    "nohate_stA_train = pd.read_csv(\".\\put.csv\")\n",
    "\n",
    "problematic_indices_eval = [\n",
    "    39391,\n",
    "48843,\n",
    "94515,\n",
    "81181,\n",
    "69034,\n",
    "47368,\n",
    "29455,\n",
    "56174,\n",
    "57069,\n",
    "74368,\n",
    "67470,\n",
    "73193,\n",
    "50784,\n",
    "66268,\n",
    "84383,\n",
    "98442,\n",
    "99385\n",
    "]\n",
    "\n",
    "def labeler(sample_id, df):\n",
    "    for column, row in df.iterrows():\n",
    "        if str(row['index']) == str(sample_id):\n",
    "            a = int(row['Label'])\n",
    "            if a == 1:\n",
    "                return 'hate speech'\n",
    "            else:\n",
    "                return 'no hate speech'\n",
    "    print(\"Function failed\")\n",
    "\n",
    "training_data = pd.DataFrame(columns=['Sample', 'Text', 'Label'])\n",
    "hate = 'hate speech' #1\n",
    "no_hate = 'no hate speech' #0\n",
    "count = 1\n",
    "for column, row in stA_eval.iterrows():\n",
    "    sample_id = row['filename'].replace(\"/content/drive/MyDrive/CASE2023_Task4/CASE2023_TASK4_EvalData/subtaskA/\",\"\").replace(\".jpg\",\"\")\n",
    "    sample_id_new = sample_id\n",
    "    if int(sample_id) in problematic_indices_eval:\n",
    "        sample_id_new = sample_id+\"(1)\"\n",
    "    sample_text = row['text']\n",
    "    training_data.loc[count] = [sample_id_new, sample_text, labeler(sample_id, eval_subtaskA)]\n",
    "    count+=1\n",
    "for column, row in hate_stA_train.iterrows():\n",
    "    sample_id = row['filename'].replace(\"/content/drive/MyDrive/CASE2023_Task4/CASE2023_TASK4_TrainData/subTaskA/Hate Speech/\",\"\").replace(\".jpg\",\"\")\n",
    "    sample_text = row['text']\n",
    "    training_data.loc[count] = [sample_id, sample_text, hate]\n",
    "    count+=1\n",
    "for column, row in nohate_stA_train.iterrows():\n",
    "    sample_id = row['filename'].replace(\"/content/drive/MyDrive/CASE2023_Task4/CASE2023_TASK4_TrainData/subTaskA/No Hate Speech/\",\"\").replace(\".jpg\",\"\")\n",
    "    sample_text = row['text']\n",
    "    training_data.loc[count] = [sample_id, sample_text, no_hate]\n",
    "    count+=1\n",
    "    \n",
    "print(training_data)"
   ]
  },
  {
   "cell_type": "code",
   "execution_count": 3,
   "id": "2bb5bf8d",
   "metadata": {
    "scrolled": true
   },
   "outputs": [
    {
     "name": "stdout",
     "output_type": "stream",
     "text": [
      "    Sample                                               Text\n",
      "1    10113    When you keep all the good rations for yourself\n",
      "2    10165  Media 9:28 1 Tucker Carlson, downplaying Russi...\n",
      "3    10287  Andreeva Bay nuclear waste storage Bolshaya Lo...\n",
      "4    10443  So many electricians in the Ukraine but no ele...\n",
      "5    10532  Daily Mail MORE STORIES Q Russia has fired 'ab...\n",
      "..     ...                                                ...\n",
      "439  99353   UKRAINIAN RESISTANCE TO RUSSIA imgflip.com A30 $\n",
      "440  99743  Patricia Arquette @PattyArquette Well for Lord...\n",
      "441  99744  4:19 1 Amazon's response to the situation in U...\n",
      "442  99764  Fox News just asked Trump what he'd do differe...\n",
      "443  99828  ALL I SAID WAS... NO CHANCE OF WAR IN UKRAINE ...\n",
      "\n",
      "[443 rows x 2 columns]\n"
     ]
    }
   ],
   "source": [
    "test_data = pd.DataFrame(columns=['Sample', 'Text'])\n",
    "count = 1\n",
    "for column, row in stA_test.iterrows():\n",
    "    sample_id = row['filename'].replace(\"/content/drive/MyDrive/CASE2023_Task4/CASE2023_TASK4_TestData/subtaskA/\",\"\").replace(\".jpg\",\"\")\n",
    "    sample_text = row['text']\n",
    "    test_data.loc[count] = [sample_id, sample_text]\n",
    "    count+=1\n",
    "    \n",
    "print(test_data)"
   ]
  },
  {
   "cell_type": "code",
   "execution_count": 4,
   "id": "c4b74ee2",
   "metadata": {},
   "outputs": [],
   "source": [
    "training_data.to_csv(\"training_df.csv\")\n",
    "test_data.to_csv(\"test_df.csv\")"
   ]
  },
  {
   "cell_type": "code",
   "execution_count": 3,
   "id": "38799d1f",
   "metadata": {},
   "outputs": [
    {
     "name": "stdout",
     "output_type": "stream",
     "text": [
      "hate speech       2185\n",
      "no hate speech    1858\n",
      "Name: Label, dtype: int64\n"
     ]
    },
    {
     "data": {
      "image/png": "[encoded data removed]",
      "text/plain": [
       "<Figure size 432x288 with 1 Axes>"
      ]
     },
     "metadata": {
      "needs_background": "light"
     },
     "output_type": "display_data"
    }
   ],
   "source": [
    "import matplotlib.pyplot as plt\n",
    "\n",
    "def harry_plotter(df,string, strang):\n",
    "    frequencies = df[string].value_counts()\n",
    "    print(frequencies)\n",
    "    ax = frequencies.plot(kind='bar')\n",
    "    ax.set_xlabel('Polarity')\n",
    "    ax.set_ylabel('Frequency')\n",
    "    ax.set_title(strang)\n",
    "    ax.set_xticklabels(ax.get_xticklabels(), rotation=0)\n",
    "    \n",
    "harry_plotter(training_data, \"Label\", \"Hate vs NoHate in training set\")\n",
    "#harry_plotter(test_data, \"Label\", \"Hate vs NoHate in test set\")"
   ]
  },
  {
   "cell_type": "markdown",
   "id": "19fa47ed",
   "metadata": {},
   "source": [
    "CNN MODEL"
   ]
  },
  {
   "cell_type": "code",
   "execution_count": 4,
   "id": "c6a2e73a",
   "metadata": {
    "scrolled": false
   },
   "outputs": [
    {
     "ename": "MemoryError",
     "evalue": "Unable to allocate 11.8 GiB for an array with shape (32340, 128, 128, 3) and data type float64",
     "output_type": "error",
     "traceback": [
      "\u001b[1;31m---------------------------------------------------------------------------\u001b[0m",
      "\u001b[1;31mMemoryError\u001b[0m                               Traceback (most recent call last)",
      "Input \u001b[1;32mIn [4]\u001b[0m, in \u001b[0;36m<cell line: 80>\u001b[1;34m()\u001b[0m\n\u001b[0;32m     77\u001b[0m         augmented_labels\u001b[38;5;241m.\u001b[39mappend(label)\n\u001b[0;32m     79\u001b[0m \u001b[38;5;66;03m# Convert augmented images and labels to NumPy arrays\u001b[39;00m\n\u001b[1;32m---> 80\u001b[0m augmented_images \u001b[38;5;241m=\u001b[39m \u001b[43mnp\u001b[49m\u001b[38;5;241;43m.\u001b[39;49m\u001b[43marray\u001b[49m\u001b[43m(\u001b[49m\u001b[43maugmented_images\u001b[49m\u001b[43m)\u001b[49m\n\u001b[0;32m     81\u001b[0m augmented_labels \u001b[38;5;241m=\u001b[39m np\u001b[38;5;241m.\u001b[39marray(augmented_labels)\n\u001b[0;32m     83\u001b[0m \u001b[38;5;66;03m# Concatenate original and augmented images\u001b[39;00m\n",
      "\u001b[1;31mMemoryError\u001b[0m: Unable to allocate 11.8 GiB for an array with shape (32340, 128, 128, 3) and data type float64"
     ]
    }
   ],
   "source": [
    "import pandas as pd\n",
    "import numpy as np\n",
    "from sklearn.model_selection import train_test_split\n",
    "from sklearn.metrics import f1_score\n",
    "from tensorflow.keras.preprocessing.text import Tokenizer\n",
    "from tensorflow.keras.preprocessing.sequence import pad_sequences\n",
    "from tensorflow.keras.preprocessing.image import load_img, img_to_array\n",
    "import tensorflow as tf\n",
    "from tensorflow.keras import regularizers\n",
    "from tensorflow.keras.layers import Conv2D, MaxPooling2D, Flatten, Dense, Embedding, Conv1D, Input, concatenate, Dropout, BatchNormalization\n",
    "from tensorflow.keras.models import Model\n",
    "from tensorflow.keras.preprocessing.image import ImageDataGenerator\n",
    "from tensorflow.keras.layers import Input, Embedding, Conv2D, Conv1D, Flatten, Dense, concatenate\n",
    "from tensorflow.keras.models import Model\n",
    "from tensorflow.keras import regularizers\n",
    "import matplotlib.pyplot as plt\n",
    "from PIL import Image\n",
    "\n",
    "\n",
    "max_features = 20000\n",
    "embedding_dim = 32\n",
    "sequence_length = 40\n",
    "image_height = 128\n",
    "image_width = 128\n",
    "image_channels = 3\n",
    "\n",
    "# Assuming you have a pandas DataFrame with 'text', 'label', and 'sample' columns for training and test sets\n",
    "train_df = training_data\n",
    "\n",
    "# Tokenize the text data\n",
    "tokenizer = Tokenizer(num_words=max_features)\n",
    "tokenizer.fit_on_texts(train_df['Text'])\n",
    "\n",
    "# Convert text to sequences of integers\n",
    "train_sequences = tokenizer.texts_to_sequences(train_df['Text'])\n",
    "\n",
    "# Pad sequences to a fixed length\n",
    "train_data_text = pad_sequences(train_sequences, maxlen=sequence_length)\n",
    "\n",
    "# Convert labels to one-hot encoding\n",
    "train_labels = pd.get_dummies(train_df['Label']).values\n",
    "\n",
    "# Load and preprocess the image data\n",
    "def load_image(sample_id):\n",
    "    image_path = f'./training_img/{sample_id}.jpg'\n",
    "    image = Image.open(image_path)\n",
    "    image = image.resize((image_width, image_height))\n",
    "    image_array = np.array(image) / 255.0  # Normalize pixel values\n",
    "    return image_array\n",
    "\n",
    "train_data_image = np.array([load_image(sample_id) for sample_id in train_df['Sample']])\n",
    "\n",
    "# Split the training set into train and validation sets\n",
    "train_data_text, val_data_text, train_data_image, val_data_image, train_labels, val_labels = train_test_split(\n",
    "    train_data_text, train_data_image, train_labels, test_size=0.2, random_state=42\n",
    ")\n",
    "\n",
    "# Data augmentation for images\n",
    "image_data_generator = ImageDataGenerator(\n",
    "    rotation_range=10,  # Rotate the image randomly by a maximum of 10 degrees\n",
    "    width_shift_range=0.1,  # Shift the image horizontally by a maximum of 10% of the width\n",
    "    height_shift_range=0.1,  # Shift the image vertically by a maximum of 10% of the height\n",
    "    shear_range=0.1,  # Apply shear transformation with a maximum of 10% intensity\n",
    "    zoom_range=0.1,  # Zoom into the image by a maximum of 10%\n",
    "    horizontal_flip=True  # Flip the image horizontally randomly\n",
    ")\n",
    "\n",
    "\n",
    "# List to store augmented images\n",
    "augmented_images = []\n",
    "augmented_labels = []\n",
    "\n",
    "# Apply data augmentation to each image sample\n",
    "for image_array, label in zip(train_data_image, train_labels):\n",
    "    for _ in range(10):\n",
    "        augmented_images.append(image_data_generator.random_transform(image_array))\n",
    "        augmented_labels.append(label)\n",
    "\n",
    "# Convert augmented images and labels to NumPy arrays\n",
    "augmented_images = np.array(augmented_images)\n",
    "augmented_labels = np.array(augmented_labels)\n",
    "\n",
    "# Concatenate original and augmented images\n",
    "train_data_image = np.concatenate([train_data_image, augmented_images], axis=0)\n",
    "train_labels = np.concatenate([train_labels, augmented_labels], axis=0)\n",
    "\n",
    "# Process text input\n",
    "input_text = Input(shape=(sequence_length,))\n",
    "embedding = Embedding(max_features + 1, embedding_dim, input_length=sequence_length,\n",
    "                      embeddings_regularizer=regularizers.l2(0.0005))(input_text)\n",
    "conv_text = Conv1D(128, 3, activation='relu', kernel_regularizer=regularizers.l2(0.0005),\n",
    "                   bias_regularizer=regularizers.l2(0.0005))(embedding)\n",
    "flatten_text = Flatten()(conv_text)\n",
    "\n",
    "# Process image input\n",
    "input_image = Input(shape=(image_height, image_width, image_channels))\n",
    "conv1 = Conv2D(64, (3, 3), activation='relu')(input_image)\n",
    "maxpool1 = MaxPooling2D((2, 2))(conv1)\n",
    "conv2 = Conv2D(128, (3, 3), activation='relu')(maxpool1)\n",
    "maxpool2 = MaxPooling2D((2, 2))(conv2)\n",
    "flatten_image = Flatten()(maxpool2)\n",
    "\n",
    "# Concatenate image and text features\n",
    "concatenated = concatenate([flatten_image, flatten_text])\n",
    "\n",
    "# Batch normalization\n",
    "batch_norm = BatchNormalization()(concatenated)\n",
    "\n",
    "# Dense layers for classification\n",
    "dense1 = Dense(32, activation='relu',\n",
    "               kernel_regularizer=regularizers.l2(0.001),\n",
    "               bias_regularizer=regularizers.l2(0.001))(batch_norm)\n",
    "dropout_dense = Dropout(0.5)(dense1)\n",
    "output = Dense(2, activation='sigmoid',\n",
    "               kernel_regularizer=regularizers.l2(0.001),\n",
    "               bias_regularizer=regularizers.l2(0.001))(dropout_dense)\n",
    "\n",
    "# Create the model\n",
    "model = Model(inputs=[input_image, input_text], outputs=output)\n",
    "model.summary()\n",
    "\n",
    "# Compile the model\n",
    "model.compile(loss=tf.keras.losses.CategoricalCrossentropy(from_logits=True),\n",
    "              optimizer='Nadam',\n",
    "              metrics=[\"CategoricalAccuracy\"])\n",
    "\n",
    "\n",
    "# Train the model\n",
    "epochs = 5\n",
    "history = model.fit([train_data_image, train_data_text], train_labels,\n",
    "                    validation_data=([val_data_image, val_data_text], val_labels),\n",
    "                    epochs=epochs, batch_size=32)\n",
    "\n",
    "# Calculate F1 score on the training set\n",
    "train_predictions = model.predict([train_data_image, train_data_text])\n",
    "train_predictions = np.argmax(train_predictions, axis=1)\n",
    "train_true_labels = np.argmax(train_labels, axis=1)\n",
    "train_f1 = f1_score(train_true_labels, train_predictions, average='macro')\n",
    "print(f\"Train F1 score: {train_f1}\")\n",
    "\n",
    "# Extract the training loss and validation loss from the history\n",
    "train_loss = history.history['loss']\n",
    "val_loss = history.history['val_loss']\n",
    "\n",
    "# Plot the training loss and validation loss\n",
    "import matplotlib.pyplot as plt\n",
    "plt.plot(range(1, epochs+1), train_loss, label='Training Loss')\n",
    "plt.plot(range(1, epochs+1), val_loss, label='Validation Loss')\n",
    "plt.xlabel('Epochs')\n",
    "plt.ylabel('Loss')\n",
    "plt.title('Training and Validation Loss')\n",
    "plt.legend()\n",
    "plt.show()"
   ]
  },
  {
   "cell_type": "code",
   "execution_count": null,
   "id": "c139ab2d",
   "metadata": {},
   "outputs": [],
   "source": []
  },
  {
   "cell_type": "code",
   "execution_count": 30,
   "id": "633ec467",
   "metadata": {},
   "outputs": [
    {
     "name": "stdout",
     "output_type": "stream",
     "text": [
      "14/14 [==============================] - 19s 1s/step\n"
     ]
    }
   ],
   "source": [
    "# Load and preprocess the image data\n",
    "def load_image_test(sample_id):\n",
    "    image_path = f'./test_img/{sample_id}.jpg'\n",
    "    image = Image.open(image_path)\n",
    "    image = image.resize((image_width, image_height))\n",
    "    image_array = np.array(image) / 255.0  # Normalize pixel values\n",
    "    return image_array\n",
    "\n",
    "# Assuming you have a pandas DataFrame with 'Text' column for the test set\n",
    "test_df = test_data\n",
    "\n",
    "# Tokenize the text data\n",
    "test_sequences = tokenizer.texts_to_sequences(test_df['Text'])\n",
    "\n",
    "# Pad sequences to a fixed length\n",
    "test_data_text = pad_sequences(test_sequences, maxlen=sequence_length)\n",
    "\n",
    "# Process image input\n",
    "test_data_image = np.array([load_image_test(sample_id) for sample_id in test_df['Sample']])\n",
    "\n",
    "# Make predictions with both text and image data\n",
    "test_predictions = model.predict([test_data_image, test_data_text])\n",
    "test_predictions = np.argmax(test_predictions, axis=1)\n",
    "\n",
    "predictions_dict = {sample_id: prediction for sample_id, prediction in zip(test_df['Sample'], test_predictions)}"
   ]
  },
  {
   "cell_type": "code",
   "execution_count": 31,
   "id": "35043942",
   "metadata": {},
   "outputs": [
    {
     "name": "stdout",
     "output_type": "stream",
     "text": [
      "{'10113': 0, '10165': 1, '10287': 1, '10443': 0, '10532': 0, '10708': 0, '10760': 1, '11066': 0, '11105': 0, '11224': 1, '11531': 0, '11607': 0, '12073': 1, '12129': 1, '12207': 0, '12515': 0, '12539': 0, '12641': 0, '12733': 1, '12799': 0, '12847': 0, '12886': 1, '12947': 0, '13300': 1, '13593': 1, '13740': 1, '14208': 0, '14269': 1, '14408': 0, '14445': 1, '14828': 1, '14891': 0, '15022': 1, '15256': 0, '15673': 0, '15873': 0, '16114': 0, '16173': 1, '16478': 1, '16514': 1, '16751': 0, '17024': 1, '17078': 0, '17223': 0, '17516': 1, '17590': 0, '17700': 0, '17930': 1, '18381': 0, '18382': 0, '18797': 0, '19000': 1, '19054': 1, '19344': 1, '19438': 1, '19499': 1, '19999': 1, '20095': 0, '20113': 1, '20425': 0, '20496': 1, '20534': 1, '20586': 0, '21069': 1, '21300': 0, '21529': 0, '21659': 0, '22011': 0, '22155': 1, '22171': 0, '22186': 0, '22700': 0, '22764': 0, '22798': 1, '22935': 1, '23204': 0, '23244': 0, '23635': 0, '23784': 0, '24189': 1, '24619': 0, '24639': 0, '24668': 0, '24831': 1, '25159': 0, '25271': 1, '25319': 1, '25432': 0, '26225': 0, '26930': 0, '27391': 0, '27797': 0, '28024': 1, '28215': 1, '28395': 1, '28757': 1, '29545': 0, '29962': 1, '30096': 0, '30517': 0, '30602': 0, '31017': 0, '31173': 0, '31236': 1, '31240': 1, '31272': 0, '31333': 0, '31565': 0, '31838': 0, '31862': 0, '32079': 0, '32111': 0, '32492': 1, '32666': 0, '32698': 0, '32722': 1, '33227': 1, '33421': 0, '33660': 1, '33702': 0, '33715': 0, '33769': 1, '34093': 0, '34101': 0, '34339': 1, '34542': 0, '34628': 1, '34846': 0, '34950': 1, '35083': 1, '35106': 0, '35215': 0, '35237': 1, '35489': 0, '35531': 0, '35727': 0, '35885': 0, '35992': 0, '36419': 0, '36577': 0, '36696': 0, '36709': 1, '36802': 0, '36817': 0, '36838': 1, '37202': 0, '37299': 1, '37302': 1, '37475': 1, '37961': 0, '38605': 0, '39301': 1, '39393': 0, '39563': 0, '40223': 0, '40439': 0, '40491': 1, '41224': 1, '41341': 0, '41406': 0, '41783': 0, '41809': 0, '42309': 0, '42719': 0, '42786': 1, '43091': 1, '43322': 1, '43559': 0, '43640': 0, '44977': 0, '45074': 0, '45220': 0, '45940': 0, '45962': 0, '46144': 0, '46250': 1, '46330': 0, '46716': 0, '46856': 0, '47054': 0, '47181': 1, '47215': 0, '47303': 1, '47809': 0, '47904': 0, '47932': 0, '48187': 1, '48280': 1, '48285': 0, '48300': 1, '48368': 0, '49003': 0, '49022': 1, '49059': 0, '49225': 0, '50126': 0, '50141': 0, '50324': 1, '50530': 1, '50780': 0, '50787': 1, '50808': 1, '51168': 0, '51302': 1, '51378': 1, '51408': 0, '51455': 0, '51462': 1, '51618': 1, '51936': 0, '52137': 0, '52153': 1, '52209': 1, '52627': 1, '52907': 1, '52961': 0, '52971': 1, '52972': 1, '53158': 0, '53426': 0, '53430': 1, '53721': 0, '53814': 0, '53861': 1, '53867': 1, '54422': 0, '54867': 0, '54924': 0, '54933': 1, '55000': 1, '55082': 0, '55384': 1, '56302': 0, '56499': 0, '56560': 0, '56977': 0, '57072': 0, '57408': 0, '57755': 1, '57838': 0, '57977': 1, '58075': 0, '58178': 0, '58218': 0, '58231': 0, '58452': 0, '58497': 0, '58543': 1, '58701': 0, '59119': 1, '59253': 0, '59573': 1, '59695': 0, '59930': 0, '59947': 1, '60153': 1, '60188': 0, '60384': 1, '60433': 1, '60686': 0, '60975': 1, '61072': 0, '61649': 0, '61814': 0, '62008': 1, '62049': 0, '62125': 1, '62168': 1, '62424': 1, '62481': 0, '62703': 0, '62826': 0, '62872': 0, '62937': 1, '63067': 0, '64882': 0, '65115': 0, '65137': 0, '65153': 1, '65603': 0, '66113': 1, '66287': 0, '66569': 0, '66699': 1, '66844': 0, '67523': 0, '67528': 1, '67929': 0, '67972': 1, '68161': 1, '68180': 1, '68213': 1, '68341': 0, '68947': 0, '69093': 1, '69159': 0, '69513': 0, '69966': 1, '70016': 0, '70215': 0, '70652': 1, '70896': 0, '71082': 0, '71122': 0, '71267': 1, '71498': 1, '71620': 1, '72082': 0, '72168': 0, '72345': 1, '73073': 0, '73214': 1, '73361': 1, '73454': 1, '73961': 0, '74279': 0, '74337': 0, '74583': 1, '74723': 0, '74982': 1, '75108': 0, '75278': 0, '75316': 0, '75493': 1, '75494': 1, '75567': 0, '75574': 0, '75718': 0, '75917': 0, '75958': 1, '76211': 1, '77014': 0, '77192': 0, '77277': 0, '77520': 1, '77666': 1, '77720': 0, '78214': 0, '78737': 0, '78894': 0, '78955': 1, '79275': 0, '79496': 0, '79683': 0, '79942': 0, '79975': 1, '80320': 0, '80343': 0, '80572': 0, '80780': 1, '80882': 1, '81797': 0, '82007': 1, '82114': 0, '82402': 0, '82792': 0, '82806': 0, '83116': 0, '83126': 0, '83273': 0, '83498': 1, '83662': 1, '83915': 0, '83966': 0, '84253': 1, '84324': 0, '84640': 0, '84780': 1, '85178': 1, '85261': 0, '85269': 0, '85387': 0, '85500': 0, '85513': 1, '85518': 0, '85902': 1, '86395': 0, '86446': 1, '86750': 1, '87054': 0, '87381': 0, '87449': 1, '87698': 1, '87708': 0, '87927': 0, '88179': 1, '88844': 1, '88916': 0, '89281': 0, '89306': 0, '89311': 0, '89504': 1, '89541': 1, '89938': 0, '90297': 0, '90657': 1, '90722': 0, '91212': 0, '91222': 1, '91370': 0, '91604': 0, '91863': 0, '92097': 0, '92300': 1, '92343': 1, '92391': 1, '92568': 0, '93155': 0, '93226': 0, '93790': 1, '93817': 0, '94175': 0, '94308': 1, '94332': 1, '94492': 0, '94567': 0, '95476': 0, '95570': 0, '95700': 1, '96004': 0, '96038': 0, '96160': 0, '96925': 0, '97357': 0, '97386': 0, '97423': 0, '97555': 1, '97572': 0, '97575': 0, '97695': 0, '97732': 0, '97832': 0, '98063': 0, '98203': 0, '98286': 1, '98934': 0, '99118': 1, '99164': 1, '99353': 0, '99743': 0, '99744': 0, '99764': 0, '99828': 0}\n"
     ]
    }
   ],
   "source": [
    "print(predictions_dict)"
   ]
  },
  {
   "cell_type": "code",
   "execution_count": 32,
   "id": "15e66127",
   "metadata": {},
   "outputs": [
    {
     "data": {
      "image/png": "[encoded data removed]",
      "text/plain": [
       "<Figure size 432x288 with 1 Axes>"
      ]
     },
     "metadata": {
      "needs_background": "light"
     },
     "output_type": "display_data"
    }
   ],
   "source": [
    "import matplotlib.pyplot as plt\n",
    "\n",
    "# Count the frequencies of 0s and 1s in the predictions dictionary\n",
    "freq_0 = sum(value == 0 for value in predictions_dict.values())\n",
    "freq_1 = sum(value == 1 for value in predictions_dict.values())\n",
    "\n",
    "# Plot the frequencies\n",
    "labels = ['0', '1']\n",
    "frequencies = [freq_0, freq_1]\n",
    "\n",
    "plt.bar(labels, frequencies)\n",
    "plt.xlabel('Class')\n",
    "plt.ylabel('Frequency')\n",
    "plt.title('Frequencies of Class 0 and Class 1')\n",
    "plt.show()"
   ]
  },
  {
   "cell_type": "code",
   "execution_count": 33,
   "id": "5a6c6749",
   "metadata": {},
   "outputs": [],
   "source": [
    "indexes = [int(mamada) for mamada in list(predictions_dict.keys())]\n",
    "no_sorted = indexes\n",
    "indexes.sort()\n",
    "\n",
    "for i in range(len(no_sorted)):\n",
    "    if no_sorted[i] == indexes[i]:\n",
    "        ola = 0\n",
    "    else:\n",
    "        print(\"FEO\")\n",
    "\n",
    "predictions_dict_sorted = {}\n",
    "for index in indexes:\n",
    "    predictions_dict_sorted[str(index)] = predictions_dict[str(index)]\n",
    "    \n",
    "index_list = list(predictions_dict_sorted.keys())"
   ]
  },
  {
   "cell_type": "code",
   "execution_count": 34,
   "id": "28a8b848",
   "metadata": {},
   "outputs": [],
   "source": [
    "import json\n",
    "\n",
    "jason = open('submission.json', 'w')\n",
    "for i in range(len(index_list)-1):\n",
    "    jason.write('{\"index\": '+ str(index_list[i])+ ', \"prediction\": '+ str(predictions_dict_sorted[index_list[i]])+ \"}\")\n",
    "    jason.write('\\n')\n",
    "jason.write('{\"index\": '+ str(index_list[-1])+ ', \"prediction\": '+ str(predictions_dict_sorted[index_list[-1]])+ \"}\")\n",
    "jason.close()"
   ]
  },
  {
   "cell_type": "code",
   "execution_count": 27,
   "id": "45f20de1",
   "metadata": {},
   "outputs": [],
   "source": [
    "#Trampitas por si son necesarias:\n",
    "\n",
    "import re\n",
    "\n",
    "jason = open('submission.json', 'r')\n",
    "lineas = jason.readlines()\n",
    "jason.close()\n",
    "\n",
    "leneas = []\n",
    "for liña in lineas:\n",
    "    lañea = liña.split(\",\")\n",
    "    leñea = lañea[0]+\",\" + re.sub(r'([01])', lambda m: '0' if m.group(1) == '1' else '1', lañea[1])\n",
    "    leneas.append(leñea)\n",
    "    \n",
    "    \n",
    "jeson = open('submission.json', 'w')\n",
    "for i in range(len(leneas)-1):\n",
    "    jeson.write(leneas[i])\n",
    "    #jeson.write('\\n')\n",
    "jeson.write(leneas[-1])\n",
    "jeson.close()"
   ]
  }
 ],
 "metadata": {
  "kernelspec": {
   "display_name": "Python 3 (ipykernel)",
   "language": "python",
   "name": "python3"
  },
  "language_info": {
   "codemirror_mode": {
    "name": "ipython",
    "version": 3
   },
   "file_extension": ".py",
   "mimetype": "text/x-python",
   "name": "python",
   "nbconvert_exporter": "python",
   "pygments_lexer": "ipython3",
   "version": "3.10.5"
  }
 },
 "nbformat": 4,
 "nbformat_minor": 5
}
